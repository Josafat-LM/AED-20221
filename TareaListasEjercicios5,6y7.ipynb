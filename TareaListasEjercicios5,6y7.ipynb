{
  "nbformat": 4,
  "nbformat_minor": 0,
  "metadata": {
    "colab": {
      "name": "TareaListas.ipynb",
      "provenance": [],
      "collapsed_sections": [],
      "authorship_tag": "ABX9TyPQiXyQoIQbljGvjadMWWR9",
      "include_colab_link": true
    },
    "kernelspec": {
      "name": "python3",
      "display_name": "Python 3"
    },
    "language_info": {
      "name": "python"
    }
  },
  "cells": [
    {
      "cell_type": "markdown",
      "metadata": {
        "id": "view-in-github",
        "colab_type": "text"
      },
      "source": [
        "<a href=\"https://colab.research.google.com/github/Josafat-LM/AED-20221/blob/main/TareaListasEjercicios5%2C6y7.ipynb\" target=\"_parent\"><img src=\"https://colab.research.google.com/assets/colab-badge.svg\" alt=\"Open In Colab\"/></a>"
      ]
    },
    {
      "cell_type": "markdown",
      "source": [
        "TAREA DE LISTAS\n",
        "\n",
        "ejercicio 5: ordenar elementos\n",
        "\n",
        "ejercicio 6: buscar por valor\n",
        "\n",
        "ejercicio 7: invertir lista"
      ],
      "metadata": {
        "id": "r4XE5koRlIK8"
      }
    },
    {
      "cell_type": "code",
      "execution_count": null,
      "metadata": {
        "colab": {
          "base_uri": "https://localhost:8080/"
        },
        "id": "PWE3uswRktut",
        "outputId": "d7b88319-fc0d-48c7-fc95-6aa3bd99acd6"
      },
      "outputs": [
        {
          "output_type": "stream",
          "name": "stdout",
          "text": [
            "Writing TareaListas.cpp\n"
          ]
        }
      ],
      "source": [
        "%%writefile TareaListas.cpp\n",
        "#include <iostream>\n",
        "\n",
        "using namespace std;\n",
        "\n",
        "class Nodo {\n",
        "\n",
        "public:\n",
        "\n",
        "    Nodo* sig,*ant;\n",
        "\n",
        "    int elemento;\n",
        "\n",
        "    Nodo(int e) {\n",
        "\n",
        "        elemento = e;\n",
        "\n",
        "        sig = nullptr;\n",
        "        ant = nullptr;\n",
        "    }\n",
        "\n",
        "};\n",
        "\n",
        "class Lista {//locomotora\n",
        "\n",
        "    Nodo* inicio;\n",
        "\n",
        "    size_t t;\n",
        "\n",
        "public:\n",
        "\n",
        "    Lista() {\n",
        "\n",
        "        inicio = nullptr;\n",
        "\n",
        "        t = 0;\n",
        "\n",
        "    }\n",
        "\n",
        "    //insertar vagones\n",
        "\n",
        "    void push_front(int elemento) {\n",
        "\n",
        "        Nodo* n = new Nodo(elemento);\n",
        "\n",
        "        if (t == 0)\n",
        "\n",
        "            inicio = n;\n",
        "\n",
        "        else {\n",
        "\n",
        "            n->sig = inicio;\n",
        "\n",
        "            inicio = n;\n",
        "\n",
        "        }\n",
        "\n",
        "        ++t;\n",
        "\n",
        "    }\n",
        "    //========================================================\n",
        "    void ordenar() {\n",
        "        Nodo* n = inicio;\n",
        "        while (n != nullptr)\n",
        "        {\n",
        "            Nodo* j = n->sig;\n",
        "            while (j != nullptr)\n",
        "            {\n",
        "                if (n->elemento>j->elemento) {\n",
        "                    int aux = j->elemento;\n",
        "                    j->elemento = n->elemento;\n",
        "                    n->elemento = aux;\n",
        "                }\n",
        "                j = j->sig;\n",
        "            }\n",
        "            n = n->sig;\n",
        "        }\n",
        "    }\n",
        "\n",
        "    //=========================================================\n",
        "    void busqueda( int elemento) {\n",
        "        Nodo* n = inicio;\n",
        "        int a = 0,iterar=1;\n",
        "        while (n != nullptr)\n",
        "        {\n",
        "            if (n->elemento == elemento) {\n",
        "                \n",
        "                cout << \"elemento \" << elemento << \" encontrado en la posicion: \" << iterar << endl;\n",
        "                a = 1;        \n",
        "            }\n",
        "            iterar++;\n",
        "            n = n->sig;            \n",
        "        }\n",
        "        \n",
        "        if(a==0)\n",
        "            cout << \"elemento no encontrado\\n\";\n",
        "    }\n",
        "\n",
        "    //=========================================================\n",
        "    void Invertir() {\n",
        "        Nodo* n = inicio;\n",
        "        Nodo* anterior=nullptr, * siguiente=nullptr;\n",
        "\n",
        "        while (n != nullptr) {\n",
        "            siguiente = n->sig;\n",
        "            n->sig = anterior;\n",
        "            anterior = n;\n",
        "            n = siguiente;\n",
        "        }\n",
        "        inicio = anterior;\n",
        "    }\n",
        "\n",
        "    //=========================================================\n",
        "\n",
        "    void print() {\n",
        "\n",
        "        Nodo* aux = inicio;\n",
        "\n",
        "        while (aux->sig != nullptr) {\n",
        "\n",
        "            cout << aux->elemento << \" \";\n",
        "\n",
        "            aux = aux->sig;\n",
        "        }\n",
        "\n",
        "        cout << aux->elemento << \"\\n\";\n",
        "\n",
        "    }\n",
        "\n",
        "};\n",
        "\n",
        "\n",
        "\n",
        "int main() {\n",
        "\n",
        "    Lista lista;\n",
        "\n",
        "    for (size_t i = 0; i < 10; ++i)\n",
        "\n",
        "        lista.push_front(i+5);\n",
        "\n",
        "    lista.print();\n",
        "    cout << \"lista ordenada\\n\";\n",
        "    lista.ordenar();\n",
        "    lista.print();\n",
        "\n",
        "    lista.busqueda(14);\n",
        "    cout << \"lista invertida\";\n",
        "    lista.Invertir();\n",
        "    cout << endl;\n",
        "    lista.print();\n",
        "  \n",
        "    return 0;\n",
        "\n",
        "}"
      ]
    },
    {
      "cell_type": "code",
      "source": [
        "!g++ TareaListas.cpp && ./a.out"
      ],
      "metadata": {
        "colab": {
          "base_uri": "https://localhost:8080/"
        },
        "id": "3rcxs6PMk-66",
        "outputId": "3111bc4d-b2ea-4503-dccc-2155462e39dc"
      },
      "execution_count": null,
      "outputs": [
        {
          "output_type": "stream",
          "name": "stdout",
          "text": [
            "14 13 12 11 10 9 8 7 6 5\n",
            "lista ordenada\n",
            "5 6 7 8 9 10 11 12 13 14\n",
            "elemento 14 encontrado en la posicion: 10\n",
            "lista invertida\n",
            "14 13 12 11 10 9 8 7 6 5\n"
          ]
        }
      ]
    }
  ]
}